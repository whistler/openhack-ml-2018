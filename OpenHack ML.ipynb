{
 "cells": [
  {
   "cell_type": "markdown",
   "metadata": {},
   "source": [
    "# Challenge 0"
   ]
  },
  {
   "cell_type": "code",
   "execution_count": 2,
   "metadata": {},
   "outputs": [
    {
     "data": {
      "text/plain": [
       "'3.6.5 (default, Jun 17 2018, 12:15:43) \\n[GCC 4.2.1 Compatible Apple LLVM 8.0.0 (clang-800.0.42.1)]'"
      ]
     },
     "execution_count": 2,
     "metadata": {},
     "output_type": "execute_result"
    }
   ],
   "source": [
    "import sys\n",
    "sys.version"
   ]
  },
  {
   "cell_type": "code",
   "execution_count": 4,
   "metadata": {},
   "outputs": [
    {
     "name": "stdout",
     "output_type": "stream",
     "text": [
      "certifi==2018.8.24\n",
      "pip 18.0 from /Users/ibrahimmuhammad/miniconda3/envs/py35/lib/python3.5/site-packages/pip (python 3.5)\n"
     ]
    }
   ],
   "source": [
    "! pip freeze\n",
    "! pip --version"
   ]
  },
  {
   "cell_type": "code",
   "execution_count": 1,
   "metadata": {},
   "outputs": [
    {
     "name": "stdout",
     "output_type": "stream",
     "text": [
      "  % Total    % Received % Xferd  Average Speed   Time    Time     Time  Current\n",
      "                                 Dload  Upload   Total   Spent    Left  Speed\n",
      "100 33.4M  100 33.4M    0     0  2516k      0  0:00:13  0:00:13 --:--:-- 4663k\n"
     ]
    }
   ],
   "source": [
    "! curl -O https://challenge.blob.core.windows.net/challengefiles/gear_images.zip"
   ]
  },
  {
   "cell_type": "markdown",
   "metadata": {},
   "source": [
    "# Challenge 1"
   ]
  },
  {
   "cell_type": "code",
   "execution_count": 11,
   "metadata": {},
   "outputs": [],
   "source": [
    "import requests\n",
    "\n",
    "def predict(image_url):\n",
    "    prediction_url = 'https://southcentralus.api.cognitive.microsoft.com/customvision/v2.0/Prediction/095eac50-bf07-4100-8352-80ff06aee711/url?iterationId=2d6a978e-d4a6-4770-ba4b-9529224b5cc1'\n",
    "    data = {\"Url\": image_url}\n",
    "    headers = {\n",
    "        'Prediction-Key': 'a99c55c1f6a740c3862bb1ffba0d3d4c',\n",
    "        'Content-Type': 'application/json'\n",
    "    }\n",
    "\n",
    "    response = requests.post(prediction_url, json=data, headers=headers)\n",
    "    return response.json()"
   ]
  },
  {
   "cell_type": "code",
   "execution_count": 13,
   "metadata": {},
   "outputs": [
    {
     "name": "stdout",
     "output_type": "stream",
     "text": [
      "{'created': '2018-10-02T17:47:53.5993224Z',\n",
      " 'id': 'd5eeb4ef-3a34-41dc-bb5c-bc775a518fd0',\n",
      " 'iteration': '2d6a978e-d4a6-4770-ba4b-9529224b5cc1',\n",
      " 'predictions': [{'probability': 1.0,\n",
      "                  'tagId': 'a91fc173-47bc-4d62-b395-4295884004a3',\n",
      "                  'tagName': 'insulated_jacket'},\n",
      "                 {'probability': 7.454575e-21,\n",
      "                  'tagId': 'f6010827-8174-4eb6-8523-f1d4b913318e',\n",
      "                  'tagName': 'hardshell_jacket'}],\n",
      " 'project': '095eac50-bf07-4100-8352-80ff06aee711'}\n"
     ]
    }
   ],
   "source": [
    "from pprint import pprint\n",
    "pprint(predict('https://image.sportsmansguide.com/adimgs/l/6/673942i3_ts.jpg'))"
   ]
  },
  {
   "cell_type": "code",
   "execution_count": null,
   "metadata": {},
   "outputs": [],
   "source": []
  }
 ],
 "metadata": {
  "kernelspec": {
   "display_name": "Python 3",
   "language": "python",
   "name": "python3"
  },
  "language_info": {
   "codemirror_mode": {
    "name": "ipython",
    "version": 3
   },
   "file_extension": ".py",
   "mimetype": "text/x-python",
   "name": "python",
   "nbconvert_exporter": "python",
   "pygments_lexer": "ipython3",
   "version": "3.6.5"
  }
 },
 "nbformat": 4,
 "nbformat_minor": 2
}
